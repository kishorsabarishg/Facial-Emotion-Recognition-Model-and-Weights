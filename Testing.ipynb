{
 "cells": [
  {
   "cell_type": "code",
   "execution_count": 1,
   "metadata": {},
   "outputs": [
    {
     "name": "stderr",
     "output_type": "stream",
     "text": [
      "Using TensorFlow backend.\n"
     ]
    }
   ],
   "source": [
    "from keras.models import model_from_json\n",
    "import pickle\n",
    "import numpy as np"
   ]
  },
  {
   "cell_type": "code",
   "execution_count": 2,
   "metadata": {},
   "outputs": [],
   "source": [
    "file = open(\"Emotion.json\", 'r')\n",
    "model_json = file.read()\n",
    "\n",
    "loaded_model = model_from_json(model_json)\n",
    "\n",
    "# load weights\n",
    "loaded_model.load_weights(\"Emotion_model_weights.h5\")"
   ]
  },
  {
   "cell_type": "code",
   "execution_count": 3,
   "metadata": {},
   "outputs": [
    {
     "name": "stdout",
     "output_type": "stream",
     "text": [
      "{0: 'happy', 1: 'disgust', 2: 'anger', 3: 'contempt', 4: 'sadness', 5: 'surprise', 6: 'fear'}\n"
     ]
    }
   ],
   "source": [
    "import cv2 as cv\n",
    "video = cv.VideoCapture(0) # 0 for in-built webcam and 1 for external web-cam/cameras\n",
    "labels = {\"persons_name\" : 1}\n",
    "with open(\"labels.pickle\", \"rb\") as f:\n",
    "    og_labels = pickle.load(f)\n",
    "    labels = { v:k for k,v in og_labels.items()}\n",
    "print(labels)"
   ]
  },
  {
   "cell_type": "code",
   "execution_count": 4,
   "metadata": {},
   "outputs": [],
   "source": [
    "loaded_model.compile(optimizer = 'adam', loss = 'sparse_categorical_crossentropy', metrics = ['accuracy'])"
   ]
  },
  {
   "cell_type": "code",
   "execution_count": 5,
   "metadata": {},
   "outputs": [],
   "source": [
    "face_cascade = cv.CascadeClassifier(\"haarcascade_frontalface_default.xml\")\n",
    "pred = np.zeros((7,1))\n",
    "pred = [[0],[1],[2],[3],[4],[5],[6]]\n",
    "while True:\n",
    "    ret, frame = video.read()\n",
    "    gray = cv.cvtColor(frame, cv.COLOR_BGR2GRAY)\n",
    "    faces = face_cascade.detectMultiScale(gray, scaleFactor = 1.5,minNeighbors = 5 )\n",
    "    for (x,y,w,h) in faces:\n",
    "        #print(x,y,w,h)\n",
    "        roi_gray = gray[y:y+h,x:x+w]\n",
    "        color = (255,0,255)\n",
    "        stroke = 2\n",
    "        cv.rectangle(frame,(x,y),(x+w,y+h), color, stroke)\n",
    "        input_shape = (1,128,128,1)\n",
    "        #print(roi_gray)\n",
    "        #roi_gray = cv.resize(100,100)\n",
    "        img_item = \"my_image.png\"\n",
    "        cv.imwrite(img_item,roi_gray)\n",
    "        img = cv.imread(img_item,0)\n",
    "        img_2 = cv.resize(img,(128,128))\n",
    "        my_array = np.ndarray(shape = input_shape)\n",
    "        my_array = np.asarray(img_2)\n",
    "        #print(my_array.shape)\n",
    "        my_array = my_array.reshape(input_shape)\n",
    "        #print(type(roi_gray.shape))\n",
    "        Y_pred = loaded_model.predict(my_array)\n",
    "        predictions1 = np.dot(Y_pred,pred)\n",
    "        predictions1 = np.array(predictions1, dtype = int)\n",
    "        predict1 = np.ndarray.flatten(predictions1)\n",
    "        x = predict1.item()\n",
    "        #print(x)\n",
    "        #print(predict1.item())\n",
    "        #print(labels[x])\n",
    "        font  = cv.FONT_HERSHEY_SIMPLEX\n",
    "        name = labels[x]\n",
    "        color = (55,25,255)\n",
    "        stroke = 2\n",
    "        cv.putText(frame, name, (x,y), font,1 , color, stroke, cv.LINE_AA)\n",
    "\n",
    "    cv.imshow(\"Frame\", frame)\n",
    "    key = cv.waitKey(1)\n",
    "    \n",
    "    if key == ord(\"q\"):\n",
    "        break\n",
    "cv.destroyAllWindows()\n",
    "video.release()"
   ]
  }
 ],
 "metadata": {
  "kernelspec": {
   "display_name": "Python 3",
   "language": "python",
   "name": "python3"
  },
  "language_info": {
   "codemirror_mode": {
    "name": "ipython",
    "version": 3
   },
   "file_extension": ".py",
   "mimetype": "text/x-python",
   "name": "python",
   "nbconvert_exporter": "python",
   "pygments_lexer": "ipython3",
   "version": "3.7.7"
  }
 },
 "nbformat": 4,
 "nbformat_minor": 4
}
